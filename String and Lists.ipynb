{
 "cells": [
  {
   "cell_type": "code",
   "execution_count": 1,
   "id": "2e30a0fd",
   "metadata": {},
   "outputs": [
    {
     "name": "stdout",
     "output_type": "stream",
     "text": [
      "Hello World!\n"
     ]
    }
   ],
   "source": [
    "print(\"Hello World!\")"
   ]
  },
  {
   "cell_type": "code",
   "execution_count": 1,
   "id": "fa37ab51",
   "metadata": {},
   "outputs": [
    {
     "name": "stdout",
     "output_type": "stream",
     "text": [
      "24\n",
      "!!!Ashu!! !!!!!!!!! Ashu\n",
      "!!!ASHU!! !!!!!!!!! ASHU\n",
      "!!!ashu!! !!!!!!!!! ashu\n",
      "!!!Ashu!! !!!!!!!!! Ashu\n",
      "!!!Ashu!! !!!!!!!!! Ashu\n",
      "['!!!Ashu!!', '!!!!!!!!!', 'Ashu']\n",
      "Introduction to js\n"
     ]
    }
   ],
   "source": [
    "a = \"!!!Ashu!! !!!!!!!!! Ashu\"\n",
    "print(len(a))\n",
    "print(a)\n",
    "print(a.upper())\n",
    "print(a.lower())\n",
    "print(a.rstrip(\"!\"))\n",
    "print(a.replace(\"Harry\", \"John\"))\n",
    "print(a.split(\" \"))\n",
    "blogHeading = \"introduction tO jS\"\n",
    "print(blogHeading.capitalize())"
   ]
  },
  {
   "cell_type": "code",
   "execution_count": 5,
   "id": "8a6c0c0c",
   "metadata": {},
   "outputs": [
    {
     "name": "stdout",
     "output_type": "stream",
     "text": [
      "25\n",
      "50\n",
      "0\n",
      "True\n",
      "True\n",
      "-1\n",
      "True\n",
      "True\n"
     ]
    }
   ],
   "source": [
    "str1 = \"Welcome to the Console!!!\"\n",
    "print(len(str1))\n",
    "print(len(str1.center(50)))\n",
    "print(a.count(\"Harry\"))\n",
    "\n",
    "str1 = \"Welcome to the Console !!!\"\n",
    "print(str1.endswith(\"!!!\"))\n",
    "\n",
    "str1 = \"Welcome to the Console !!!\"\n",
    "print(str1.endswith(\"to\", 4, 10))\n",
    "\n",
    "str1 = \"He's name is Dan. He is an honest man.\"\n",
    "print(str1.find(\"ishh\"))\n",
    "\n",
    "str1 = \"WelcomeToTheConsole\"\n",
    "print(str1.isalnum())\n",
    "str1 = \"Welcome\"\n",
    "print(str1.isalpha())"
   ]
  },
  {
   "cell_type": "code",
   "execution_count": 6,
   "id": "41a96e62",
   "metadata": {},
   "outputs": [
    {
     "name": "stdout",
     "output_type": "stream",
     "text": [
      "True\n",
      "False\n",
      "True\n",
      "True\n",
      "True\n",
      "False\n",
      "True\n",
      "pYTHON IS A iNTERPRETED lANGUAGE\n",
      "His Name Is Dan. Dan Is An Honest Man.\n"
     ]
    }
   ],
   "source": [
    "str1 = \"hello world\"\n",
    "print(str1.islower())\n",
    "\n",
    "str1 = \"We wish you a Merry Christmas\\n\"\n",
    "print(str1.isprintable())\n",
    "str1 = \"         \"       #using Spacebar\n",
    "print(str1.isspace())\n",
    "str2 = \"  \"       #using Tab\n",
    "print(str2.isspace())\n",
    "\n",
    "str1 = \"World Health Organization\" \n",
    "print(str1.istitle())\n",
    "\n",
    "str2 = \"To kill a Mocking bird\"\n",
    "print(str2.istitle())\n",
    "\n",
    "str1 = \"Python is a Interpreted Language\" \n",
    "print(str1.startswith(\"Python\"))\n",
    "\n",
    "str1 = \"Python is a Interpreted Language\" \n",
    "print(str1.swapcase())\n",
    "\n",
    "str1 = \"His name is Dan. Dan is an honest man.\"\n",
    "print(str1.title())"
   ]
  },
  {
   "cell_type": "code",
   "execution_count": null,
   "id": "08605a24",
   "metadata": {},
   "outputs": [],
   "source": []
  }
 ],
 "metadata": {
  "kernelspec": {
   "display_name": "Python 3 (ipykernel)",
   "language": "python",
   "name": "python3"
  },
  "language_info": {
   "codemirror_mode": {
    "name": "ipython",
    "version": 3
   },
   "file_extension": ".py",
   "mimetype": "text/x-python",
   "name": "python",
   "nbconvert_exporter": "python",
   "pygments_lexer": "ipython3",
   "version": "3.9.13"
  }
 },
 "nbformat": 4,
 "nbformat_minor": 5
}
